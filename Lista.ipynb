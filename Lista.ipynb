{
 "cells": [
  {
   "cell_type": "code",
   "execution_count": 1,
   "id": "10a2003a-7803-4d35-b280-35be03939a28",
   "metadata": {},
   "outputs": [
    {
     "name": "stdin",
     "output_type": "stream",
     "text": [
      "Digite um numero:  5\n",
      "Digite um numero:  8\n",
      "Digite um numero:  9\n",
      "Digite um numero:  15\n",
      "Digite um numero:  20\n"
     ]
    },
    {
     "name": "stdout",
     "output_type": "stream",
     "text": [
      "o maior numero é 20\n",
      "o menor numero é 5 \n",
      "A posição do maior numero é 5\n",
      "A posição do menor numero é 1\n"
     ]
    }
   ],
   "source": [
    "# DESAFIO 78\n",
    "# Faça um programa que leia 5 valores numéricos e guarde-os em uma lista.\n",
    "\n",
    "# No final, mostre qual foi o maior e o menor valor digitado e as suas respectivas posições na lista.\n",
    "lista=[]\n",
    "# for x in range(1,6):\n",
    "#     num=int(input(f'Digite o {x}º  numero: '))\n",
    "#     lista.append(num)\n",
    "x=0\n",
    "while x < 5:\n",
    "    num=int(input('Digite um numero: '))\n",
    "    lista.append(num)\n",
    "    x+=1\n",
    "print(f'o maior numero é {max(lista)}')\n",
    "print(f'o menor numero é {min(lista)} ')\n",
    "maior=max(lista)\n",
    "menor=min(lista)\n",
    "print(f'A posição do maior numero é {lista.index(maior)+1}')\n",
    "print(f'A posição do menor numero é {lista.index(menor)+1}')\n"
   ]
  },
  {
   "cell_type": "code",
   "execution_count": 2,
   "id": "a18c4877-c5c2-4c63-990e-51c5f9abbc73",
   "metadata": {},
   "outputs": [
    {
     "name": "stdin",
     "output_type": "stream",
     "text": [
      "Digiete um numero:  8\n",
      "Digiete um numero:  7\n",
      "Digiete um numero:  7\n",
      "Digiete um numero:  4\n",
      "Digiete um numero:  2\n",
      "Digiete um numero:  1\n",
      "Digiete um numero:  6\n",
      "Digiete um numero:  0\n"
     ]
    },
    {
     "name": "stdout",
     "output_type": "stream",
     "text": [
      "[0, 1, 2, 4, 6, 7, 8]\n"
     ]
    }
   ],
   "source": [
    "# DESAFIO 79\n",
    "# Crie um programa onde o usuário possa digitar vários valores numéricos e\n",
    "# cadastre-os em uma lista. Caso o número já exista lá dentro, ele não será adicionado.\n",
    "# No final serão exibidos todos os valores únicos digitados, em ordem crescente.\n",
    "\n",
    "numeros=[]\n",
    "while True:\n",
    "    num=int(input('Digiete um numero: '))\n",
    "    if  num not in numeros:\n",
    "        numeros.append(num)\n",
    "    if num == 0:\n",
    "        break\n",
    "numeros.sort()\n",
    "print(sorted(numeros))"
   ]
  },
  {
   "cell_type": "code",
   "execution_count": 3,
   "id": "3f0f239f-040f-4fa8-90ec-beaa2a0f84b1",
   "metadata": {},
   "outputs": [
    {
     "name": "stdin",
     "output_type": "stream",
     "text": [
      "digite o 1º numero:  5\n",
      "digite o 2º numero:  8\n",
      "digite o 3º numero:  7\n",
      "digite o 4º numero:  3\n",
      "digite o 5º numero:  2\n"
     ]
    },
    {
     "name": "stdout",
     "output_type": "stream",
     "text": [
      "[2, 3, 5, 7, 8]\n"
     ]
    }
   ],
   "source": [
    "# DESAFIO 80\n",
    "# Crie um programa onde o usuário possa digitar cinco valores\n",
    "# numéricos e cadastre-os em uma lista, já na sua posição correta de\n",
    "# inserção (sem usar o sort()).\n",
    "#\n",
    "# No final mostre a lista ordenada na tela\n",
    "numeros=[]\n",
    "for x in range(1,6):\n",
    "    num=int(input(f'digite o {x}º numero: '))\n",
    "    numeros.append(num)\n",
    "# print(numeros)\n",
    "# for i in range(5):\n",
    "#     for j in range(5):\n",
    "#         if numeros[i]>numeros[j]:\n",
    "#             numeros[i],numeros[j] = numeros[j], numeros[i]\n",
    "#             print(numeros)\n",
    "# print(f'os numeros ordenados são {numeros}')\n",
    "troca=True\n",
    "while troca:\n",
    "    troca= False\n",
    "    j=0\n",
    "    while j<4:\n",
    "        if numeros[j]>numeros[j+1]:\n",
    "            numeros[j],numeros[j+1]=numeros[j+1], numeros[j]\n",
    "            troca = True\n",
    "        j+=1\n",
    "print(numeros)"
   ]
  },
  {
   "cell_type": "code",
   "execution_count": 4,
   "id": "acb27027-1b57-46c8-a56a-543f1455bb43",
   "metadata": {},
   "outputs": [
    {
     "name": "stdin",
     "output_type": "stream",
     "text": [
      "Digite um numero: (para sair digite \"sair\")  8\n",
      "Digite um numero: (para sair digite \"sair\")  10\n",
      "Digite um numero: (para sair digite \"sair\")  sair\n"
     ]
    },
    {
     "name": "stdout",
     "output_type": "stream",
     "text": [
      "O tamanho da lista é 2\n",
      "A lista decrescente [10.0, 8.0]\n",
      "Não tem o numero 5\n"
     ]
    }
   ],
   "source": [
    "lista=[]\n",
    "while True:\n",
    "    num=input('Digite um numero: (para sair digite \"sair\") ')\n",
    "    if num=='sair':\n",
    "        break\n",
    "    elif num.isnumeric():\n",
    "        num=float(num)\n",
    "        lista.append(num)\n",
    "    else:\n",
    "        print('Digite apenas numeros!!')\n",
    "print('O tamanho da lista é',len(lista))\n",
    "lista.sort(reverse=True)\n",
    "print('A lista decrescente', lista)\n",
    "if 5 in lista:\n",
    "    print('Tem o numero 5')\n",
    "else:\n",
    "    print('Não tem o numero 5')"
   ]
  },
  {
   "cell_type": "code",
   "execution_count": null,
   "id": "a6fc00f0-53d7-410b-a472-848349412312",
   "metadata": {},
   "outputs": [],
   "source": []
  }
 ],
 "metadata": {
  "kernelspec": {
   "display_name": "Python 3 (ipykernel)",
   "language": "python",
   "name": "python3"
  },
  "language_info": {
   "codemirror_mode": {
    "name": "ipython",
    "version": 3
   },
   "file_extension": ".py",
   "mimetype": "text/x-python",
   "name": "python",
   "nbconvert_exporter": "python",
   "pygments_lexer": "ipython3",
   "version": "3.11.7"
  }
 },
 "nbformat": 4,
 "nbformat_minor": 5
}
