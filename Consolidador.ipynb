{
 "cells": [
  {
   "cell_type": "code",
   "execution_count": 66,
   "id": "6921688b-2010-4d22-affa-38a81a7007a1",
   "metadata": {},
   "outputs": [],
   "source": [
    "import pandas as pd\n",
    "import os\n",
    "import datetime"
   ]
  },
  {
   "cell_type": "code",
   "execution_count": 67,
   "id": "3bc80644-e412-4c45-83a5-dfa170680648",
   "metadata": {},
   "outputs": [],
   "source": [
    "data = datetime.datetime.now()"
   ]
  },
  {
   "cell_type": "code",
   "execution_count": 68,
   "id": "30ccf6d4-cdb0-4e92-9f92-0ca9b69e1a12",
   "metadata": {},
   "outputs": [],
   "source": [
    "colunas = [\n",
    "    'Segmento',\n",
    "    'País',\n",
    "    'Produto',\n",
    "    'Qtde de Unidades Vendidas',\n",
    "    'Preço Unitário',\n",
    "    'Valor Total',\n",
    "    'Desconto',\n",
    "    'Valor Total c/ Desconto',\n",
    "    'Custo Total',\n",
    "    'Lucro',\n",
    "    'Data',\n",
    "    'Mês',\n",
    "    'Ano'\n",
    "]\n",
    "consolidado = pd.DataFrame(columns=colunas)\n"
   ]
  },
  {
   "cell_type": "code",
   "execution_count": 69,
   "id": "b5e155c6-7a72-4451-a535-6ff4a65bdccc",
   "metadata": {},
   "outputs": [
    {
     "data": {
      "text/plain": [
       "pandas.core.frame.DataFrame"
      ]
     },
     "execution_count": 69,
     "metadata": {},
     "output_type": "execute_result"
    }
   ],
   "source": [
    "type(consolidado)"
   ]
  },
  {
   "cell_type": "code",
   "execution_count": 70,
   "id": "2470e375-6ce0-453d-8ad4-0cb7f6290e2d",
   "metadata": {},
   "outputs": [
    {
     "data": {
      "text/html": [
       "<div>\n",
       "<style scoped>\n",
       "    .dataframe tbody tr th:only-of-type {\n",
       "        vertical-align: middle;\n",
       "    }\n",
       "\n",
       "    .dataframe tbody tr th {\n",
       "        vertical-align: top;\n",
       "    }\n",
       "\n",
       "    .dataframe thead th {\n",
       "        text-align: right;\n",
       "    }\n",
       "</style>\n",
       "<table border=\"1\" class=\"dataframe\">\n",
       "  <thead>\n",
       "    <tr style=\"text-align: right;\">\n",
       "      <th></th>\n",
       "      <th>Segmento</th>\n",
       "      <th>País</th>\n",
       "      <th>Produto</th>\n",
       "      <th>Qtde de Unidades Vendidas</th>\n",
       "      <th>Preço Unitário</th>\n",
       "      <th>Valor Total</th>\n",
       "      <th>Desconto</th>\n",
       "      <th>Valor Total c/ Desconto</th>\n",
       "      <th>Custo Total</th>\n",
       "      <th>Lucro</th>\n",
       "      <th>Data</th>\n",
       "      <th>Mês</th>\n",
       "      <th>Ano</th>\n",
       "    </tr>\n",
       "  </thead>\n",
       "  <tbody>\n",
       "  </tbody>\n",
       "</table>\n",
       "</div>"
      ],
      "text/plain": [
       "Empty DataFrame\n",
       "Columns: [Segmento, País, Produto, Qtde de Unidades Vendidas, Preço Unitário, Valor Total, Desconto, Valor Total c/ Desconto, Custo Total, Lucro, Data, Mês, Ano]\n",
       "Index: []"
      ]
     },
     "execution_count": 70,
     "metadata": {},
     "output_type": "execute_result"
    }
   ],
   "source": [
    "consolidado"
   ]
  },
  {
   "cell_type": "code",
   "execution_count": 71,
   "id": "f75e716a-5d17-45b0-928c-1f99391954f1",
   "metadata": {},
   "outputs": [],
   "source": [
    "arquivos = os.listdir(\"./Documents/murilo/06 - Mao na Massa - Analise de Dados/06 - Mao na Massa - Analise de Dados/01 - Consolidador/planilhas/\")"
   ]
  },
  {
   "cell_type": "code",
   "execution_count": 72,
   "id": "24491128-4d90-469f-b753-bd612de7f708",
   "metadata": {},
   "outputs": [
    {
     "data": {
      "text/plain": [
       "['Governo-Alemanha.xlsx',\n",
       " 'Governo-Canadá.xlsx',\n",
       " 'Governo-Chile.xlsx',\n",
       " 'Governo-EUA.xlsx',\n",
       " 'Governo-França.xlsx',\n",
       " 'Grandes empresas-Alemanha.xlsx',\n",
       " 'Grandes empresas-Canadá.xlsx',\n",
       " 'Grandes empresas-Chile.xlsx',\n",
       " 'Grandes empresas-EUA.xlsx',\n",
       " 'Grandes empresas-França.xlsx',\n",
       " 'Médias empresas-Alemanha.xlsx',\n",
       " 'Médias empresas-Canadá.xlsx',\n",
       " 'Médias empresas-Chile.xlsx',\n",
       " 'Médias empresas-EUA.xlsx',\n",
       " 'Médias empresas-França.xlsx',\n",
       " 'Pequenas empresas-Alemanha.xlsx',\n",
       " 'Pequenas empresas-Canadá.xlsx',\n",
       " 'Pequenas empresas-Chile.xlsx',\n",
       " 'Pequenas empresas-EUA.xlsx',\n",
       " 'Pequenas empresas-França.xlsx',\n",
       " 'teste.txt',\n",
       " 'Vendas online-Alemanha.xlsx',\n",
       " 'Vendas online-Canadá.xlsx',\n",
       " 'Vendas online-Chile.xlsx',\n",
       " 'Vendas online-EUA.xlsx',\n",
       " 'Vendas online-França.xlsx']"
      ]
     },
     "execution_count": 72,
     "metadata": {},
     "output_type": "execute_result"
    }
   ],
   "source": [
    "arquivos"
   ]
  },
  {
   "cell_type": "code",
   "execution_count": 82,
   "id": "6679150e-ca01-4d50-87a4-763cce683cd8",
   "metadata": {},
   "outputs": [],
   "source": [
    "for excel in arquivos:\n",
    "    if excel.endswith('.xlsx'):\n",
    "        try:\n",
    "            dados_arquivo = excel.split('-')\n",
    "            segmento = dados_arquivo[0]\n",
    "            pais = dados_arquivo[1].replace('.xlsx', '')\n",
    "        \n",
    "            df = pd.read_excel(f'./Documents/murilo/06 - Mao na Massa - Analise de Dados/06 - Mao na Massa - Analise de Dados/01 - Consolidador/planilhas/{excel}')\n",
    "            df.insert(0, 'Segmento', segmento)\n",
    "            df.insert(1, 'País', pais)        \n",
    "            consolidado = pd.concat([consolidado, df])\n",
    "        except:\n",
    "            with open('log_erros.txt', 'w') as arquivo:\n",
    "                arquivo.write(f'Erro ao tentar consolidar o arquivo {excel}.')\n",
    "    else:\n",
    "        with open('log_erros.txt', 'a') as arquivo:\n",
    "            arquivo.write(f'O arquivo {excel} não é um arquivo Excel válido!\\n')\n",
    "        "
   ]
  },
  {
   "cell_type": "code",
   "execution_count": 83,
   "id": "c295498d-ea24-446b-a484-c29572902e61",
   "metadata": {},
   "outputs": [
    {
     "name": "stdout",
     "output_type": "stream",
     "text": [
      "<class 'pandas.core.frame.DataFrame'>\n",
      "Index: 2100 entries, 0 to 19\n",
      "Data columns (total 13 columns):\n",
      " #   Column                     Non-Null Count  Dtype         \n",
      "---  ------                     --------------  -----         \n",
      " 0   Segmento                   2100 non-null   object        \n",
      " 1   País                       2100 non-null   object        \n",
      " 2   Produto                    2100 non-null   object        \n",
      " 3   Qtde de Unidades Vendidas  2100 non-null   object        \n",
      " 4   Preço Unitário             2100 non-null   object        \n",
      " 5   Valor Total                2100 non-null   object        \n",
      " 6   Desconto                   2100 non-null   float64       \n",
      " 7   Valor Total c/ Desconto    2100 non-null   float64       \n",
      " 8   Custo Total                2100 non-null   float64       \n",
      " 9   Lucro                      2100 non-null   float64       \n",
      " 10  Data                       2100 non-null   datetime64[ns]\n",
      " 11  Mês                        2100 non-null   object        \n",
      " 12  Ano                        2100 non-null   object        \n",
      "dtypes: datetime64[ns](1), float64(4), object(8)\n",
      "memory usage: 229.7+ KB\n"
     ]
    }
   ],
   "source": [
    "consolidado.info()"
   ]
  },
  {
   "cell_type": "code",
   "execution_count": 84,
   "id": "7cc16adb-fa73-4dc5-9a83-819d90126f47",
   "metadata": {},
   "outputs": [
    {
     "data": {
      "text/plain": [
       "(2100, 13)"
      ]
     },
     "execution_count": 84,
     "metadata": {},
     "output_type": "execute_result"
    }
   ],
   "source": [
    "consolidado.shape"
   ]
  },
  {
   "cell_type": "code",
   "execution_count": 85,
   "id": "47356079-7747-4655-bdab-2f199db1a1d1",
   "metadata": {},
   "outputs": [],
   "source": [
    "consolidado.to_excel(\n",
    "                     f\"Report-consolidado-{data.strftime('%d-%m-%y')}.xlsx\",\n",
    "                     index=False,\n",
    "                     sheet_name='Report consolidado'\n",
    "                     )"
   ]
  },
  {
   "cell_type": "code",
   "execution_count": null,
   "id": "adad3807-a1a4-4079-a370-dcd3d8fa8769",
   "metadata": {},
   "outputs": [],
   "source": []
  },
  {
   "cell_type": "code",
   "execution_count": null,
   "id": "a1720206-96a9-4ded-9be2-3de8601bb7ab",
   "metadata": {},
   "outputs": [],
   "source": []
  },
  {
   "cell_type": "code",
   "execution_count": null,
   "id": "2b4dc5b4-011b-4c93-88b6-6055826726c3",
   "metadata": {},
   "outputs": [],
   "source": []
  }
 ],
 "metadata": {
  "kernelspec": {
   "display_name": "Python 3 (ipykernel)",
   "language": "python",
   "name": "python3"
  },
  "language_info": {
   "codemirror_mode": {
    "name": "ipython",
    "version": 3
   },
   "file_extension": ".py",
   "mimetype": "text/x-python",
   "name": "python",
   "nbconvert_exporter": "python",
   "pygments_lexer": "ipython3",
   "version": "3.11.7"
  }
 },
 "nbformat": 4,
 "nbformat_minor": 5
}
