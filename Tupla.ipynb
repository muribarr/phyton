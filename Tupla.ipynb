{
 "cells": [
  {
   "cell_type": "code",
   "execution_count": 1,
   "id": "898355bc-926a-4ab0-970f-30bd437f5dee",
   "metadata": {},
   "outputs": [
    {
     "name": "stdin",
     "output_type": "stream",
     "text": [
      "Digite um numero: 5\n",
      "Digite um numero: 8\n",
      "Digite um numero: 9\n",
      "Digite um numero: 7\n"
     ]
    },
    {
     "name": "stdout",
     "output_type": "stream",
     "text": [
      "8\n",
      "O numero nove aparece 1\n"
     ]
    }
   ],
   "source": [
    "# DESAFIO 75\n",
    "# Desenvolva um programa que leia quatro valores pelo teclado e\n",
    "# guarde-os em uma tupla. No final, mostre:\n",
    "# A) Quantas vezes apareceu o valor 9.\n",
    "# B) Em que posição foi digitado o primeiro valor 3.\n",
    "# C) Quais foram o números pares.\n",
    "tupla=tuple(int(input('Digite um numero:')) for x in range(4))\n",
    "for x in tupla:\n",
    "      if x%2==0:\n",
    "            print(x)\n",
    "print(f'O numero nove aparece {tupla.count(9)}' if tupla.count(9)!=0 else 'Não aparece o numero 9')"
   ]
  },
  {
   "cell_type": "code",
   "execution_count": 2,
   "id": "15cde629-98ef-47f1-8701-5e23ffe90f20",
   "metadata": {},
   "outputs": [
    {
     "name": "stdout",
     "output_type": "stream",
     "text": [
      "zero\n",
      "e\n",
      "o\n",
      "um\n",
      "u\n",
      "dois\n",
      "o\n",
      "i\n",
      "tres\n",
      "e\n",
      "quatro\n",
      "u\n",
      "a\n",
      "o\n",
      "cinco\n",
      "i\n",
      "o\n",
      "seis\n",
      "e\n",
      "i\n",
      "sete\n",
      "e\n",
      "e\n",
      "oito\n",
      "o\n",
      "i\n",
      "o\n",
      "nove\n",
      "o\n",
      "e\n",
      "dez\n",
      "e\n",
      "onze\n",
      "o\n",
      "e\n",
      "doze\n",
      "o\n",
      "e\n",
      "treze\n",
      "e\n",
      "e\n",
      "quatorze\n",
      "u\n",
      "a\n",
      "o\n",
      "e\n",
      "quinze\n",
      "u\n",
      "i\n",
      "e\n",
      "dezesseis\n",
      "e\n",
      "e\n",
      "e\n",
      "i\n",
      "dezessete\n",
      "e\n",
      "e\n",
      "e\n",
      "e\n",
      "dezoito\n",
      "e\n",
      "o\n",
      "i\n",
      "o\n",
      "dezenove\n",
      "e\n",
      "e\n",
      "o\n",
      "e\n",
      "vinte\n",
      "i\n",
      "e\n"
     ]
    }
   ],
   "source": [
    "# DESAFIO 77\n",
    "# Crie um programa que tenha uma tupla com várias palavras (não usar\n",
    "# acentos). Depois disso você deve mostrar, para cada palavra, quais são\n",
    "# as suas vogais.\n",
    "numeros=(\"zero\",\"um\",\"dois\",\"tres\",\"quatro\",\"cinco\",\"seis\",\"sete\"\n",
    "         ,\"oito\",\"nove\",\"dez\",\"onze\",\"doze\",\"treze\",\"quatorze\",\"quinze\",\n",
    "         \"dezesseis\",\"dezessete\",\"dezoito\",\"dezenove\",\"vinte\")\n",
    "vogais=['a','e','i','o','u']\n",
    "for palavra in numeros:\n",
    "    print(palavra)\n",
    "    for letra in palavra:\n",
    "        if letra in vogais:\n",
    "            print(letra)"
   ]
  },
  {
   "cell_type": "code",
   "execution_count": 3,
   "id": "bd305f62-fa52-4308-a137-5f560f6ba9bf",
   "metadata": {},
   "outputs": [
    {
     "name": "stdin",
     "output_type": "stream",
     "text": [
      "Digite um numero:  7\n",
      "Digite um numero:  9\n",
      "Digite um numero:  5\n",
      "Digite um numero:  4\n"
     ]
    },
    {
     "name": "stdout",
     "output_type": "stream",
     "text": [
      "O numero 9 apareceu 1 vezes\n",
      "O numero 3 não aparece\n"
     ]
    }
   ],
   "source": [
    "numeros=tuple(int(input('Digite um numero: ')) for x in range(4))\n",
    "print(f'O numero 9 apareceu {numeros.count(9)} vezes'\n",
    "      if numeros.count(9)!= 0 else 'O numero 9 não aparece')\n",
    "print(f'O numero 3 apareceu {numeros.index(3)} posição'\n",
    "      if 3 in numeros else 'O numero 3 não aparece')"
   ]
  },
  {
   "cell_type": "code",
   "execution_count": null,
   "id": "14c6771c-95e1-4698-b4ca-1c68af95d28d",
   "metadata": {},
   "outputs": [],
   "source": []
  }
 ],
 "metadata": {
  "kernelspec": {
   "display_name": "Python 3 (ipykernel)",
   "language": "python",
   "name": "python3"
  },
  "language_info": {
   "codemirror_mode": {
    "name": "ipython",
    "version": 3
   },
   "file_extension": ".py",
   "mimetype": "text/x-python",
   "name": "python",
   "nbconvert_exporter": "python",
   "pygments_lexer": "ipython3",
   "version": "3.11.7"
  }
 },
 "nbformat": 4,
 "nbformat_minor": 5
}
