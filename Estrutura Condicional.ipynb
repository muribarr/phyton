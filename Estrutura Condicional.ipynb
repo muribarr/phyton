{
 "cells": [
  {
   "cell_type": "code",
   "execution_count": 9,
   "id": "1b4edcde-3995-40c6-8e36-3865c06f9131",
   "metadata": {},
   "outputs": [
    {
     "name": "stdout",
     "output_type": "stream",
     "text": [
      "É maior de idade\n"
     ]
    }
   ],
   "source": [
    "idade = 18\n",
    "\n",
    "if idade >= 18: \n",
    "   print('É maior de idade')\n",
    "else: \n",
    "    print('Não é maior de idade')"
   ]
  },
  {
   "cell_type": "code",
   "execution_count": 8,
   "id": "86f0724b-29d7-44bd-b66f-33f87f6d5931",
   "metadata": {},
   "outputs": [
    {
     "name": "stdout",
     "output_type": "stream",
     "text": [
      "Não pode dirigir\n"
     ]
    }
   ],
   "source": [
    "idade = 17\n",
    "tem_carteira_motorista = True\n",
    "\n",
    "if idade >= 18 and tem_carteira_motorista:\n",
    "   print('Pode dirigir')\n",
    "else:\n",
    "   print('Não pode dirigir')"
   ]
  },
  {
   "cell_type": "code",
   "execution_count": 11,
   "id": "821f6d97-a03a-44be-b2b0-705e3d513871",
   "metadata": {},
   "outputs": [
    {
     "name": "stdout",
     "output_type": "stream",
     "text": [
      "É muito novo\n"
     ]
    }
   ],
   "source": [
    "idade = 17\n",
    "tem_carteira_motorista = True\n",
    "\n",
    "if idade >= 18 and tem_carteira_motorista:\n",
    "   print('Pode dirigir')\n",
    "elif idade >= 11:\n",
    "   print('É muito novo')\n",
    "else:\n",
    "   print('Não pode dirigir')"
   ]
  },
  {
   "cell_type": "code",
   "execution_count": null,
   "id": "7402a10d-72b9-4cd4-83f9-1ae2a572af79",
   "metadata": {},
   "outputs": [],
   "source": []
  }
 ],
 "metadata": {
  "kernelspec": {
   "display_name": "Python 3 (ipykernel)",
   "language": "python",
   "name": "python3"
  },
  "language_info": {
   "codemirror_mode": {
    "name": "ipython",
    "version": 3
   },
   "file_extension": ".py",
   "mimetype": "text/x-python",
   "name": "python",
   "nbconvert_exporter": "python",
   "pygments_lexer": "ipython3",
   "version": "3.11.7"
  }
 },
 "nbformat": 4,
 "nbformat_minor": 5
}
