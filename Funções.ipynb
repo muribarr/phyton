{
 "cells": [
  {
   "cell_type": "code",
   "execution_count": 6,
   "id": "349991c4-82cb-4233-aeda-9f0b05c79f5a",
   "metadata": {},
   "outputs": [
    {
     "name": "stdout",
     "output_type": "stream",
     "text": [
      "seja bem vindo ao Senai Ary Torres!\n",
      "Voce esta logado(a) no sistema!\n",
      "Não se esqueça de fazer o logout!\n"
     ]
    }
   ],
   "source": [
    "print('seja bem vindo ao Senai Ary Torres!')\n",
    "print('Voce esta logado(a) no sistema!')\n",
    "print('Não se esqueça de fazer o logout!')"
   ]
  },
  {
   "cell_type": "code",
   "execution_count": 8,
   "id": "52ffd570-53be-4578-8cb8-f58fca8ff165",
   "metadata": {},
   "outputs": [
    {
     "name": "stdout",
     "output_type": "stream",
     "text": [
      "seja bem vindo ao Senai Ary Torres!\n",
      "Voce esta logado(a) no sistema!\n",
      "Não se esqueça de fazer o logout, murilo!\n"
     ]
    }
   ],
   "source": [
    "def imprimir_frases():\n",
    "    print('seja bem vindo ao Senai Ary Torres!')\n",
    "    print('Voce esta logado(a) no sistema!')\n",
    "    print('Não se esqueça de fazer o logout, murilo!')\n",
    "\n",
    "imprimir_frases()\n",
    "    \n"
   ]
  },
  {
   "cell_type": "code",
   "execution_count": 21,
   "id": "8c80be14-df72-453b-add4-980af7a68c7d",
   "metadata": {},
   "outputs": [],
   "source": [
    "def imprimir_frases(nome):\n",
    "    print(f'seja bem vindo ao Senai Ary Torres, {nome}!')\n",
    "    print(f'Voce esta logado(a) no sistema, {nome}!')\n",
    "    print(f'Não se esqueça de fazer o logout, {nome}!')\n",
    "\n"
   ]
  },
  {
   "cell_type": "code",
   "execution_count": 22,
   "id": "f40a9098-1b86-4dc7-8871-405c628e07a5",
   "metadata": {},
   "outputs": [
    {
     "name": "stdout",
     "output_type": "stream",
     "text": [
      "seja bem vindo ao Senai Ary Torres, murilo!\n",
      "Voce esta logado(a) no sistema, murilo!\n",
      "Não se esqueça de fazer o logout, murilo!\n"
     ]
    }
   ],
   "source": [
    "imprimir_frases('murilo')"
   ]
  },
  {
   "cell_type": "code",
   "execution_count": 34,
   "id": "60389dc4-6b75-4b59-8f7c-bd3d0b210758",
   "metadata": {},
   "outputs": [],
   "source": [
    "def somar_numeros(num1, num2):\n",
    "    print(num1 + num2)"
   ]
  },
  {
   "cell_type": "code",
   "execution_count": 35,
   "id": "84501894-0c6c-4468-b3b0-e070b1819251",
   "metadata": {},
   "outputs": [
    {
     "name": "stdout",
     "output_type": "stream",
     "text": [
      "25\n"
     ]
    }
   ],
   "source": [
    "somar_numeros(10,15)"
   ]
  },
  {
   "cell_type": "code",
   "execution_count": 36,
   "id": "00271af2-a538-4c38-9d83-433be838fa0c",
   "metadata": {},
   "outputs": [],
   "source": [
    "nome_teste = 'Phyton'\n",
    "\n",
    "def imprimir_frases_user(nome):\n",
    "    nome_usuario = nome + '!'\n",
    "    print(f'Seja bem vindo(a), {nome_usuario}')\n",
    "    "
   ]
  },
  {
   "cell_type": "code",
   "execution_count": 37,
   "id": "f8102ead-9003-4ca5-a3a6-6c82ddac5d7f",
   "metadata": {},
   "outputs": [
    {
     "name": "stdout",
     "output_type": "stream",
     "text": [
      "Seja bem vindo(a), Murilo!\n"
     ]
    }
   ],
   "source": [
    "imprimir_frases_user('Murilo')"
   ]
  },
  {
   "cell_type": "code",
   "execution_count": 40,
   "id": "1b0e7e5a-d8a4-47fc-b0f8-dd0200d1d9d9",
   "metadata": {},
   "outputs": [],
   "source": [
    "def somar_numeros(number1, number2):\n",
    "    return number1 + number2"
   ]
  },
  {
   "cell_type": "code",
   "execution_count": 41,
   "id": "f88e35dc-5799-47e8-8cb5-628a42a2f88d",
   "metadata": {},
   "outputs": [
    {
     "data": {
      "text/plain": [
       "60"
      ]
     },
     "execution_count": 41,
     "metadata": {},
     "output_type": "execute_result"
    }
   ],
   "source": [
    "somar_numeros(10,50)"
   ]
  },
  {
   "cell_type": "code",
   "execution_count": 49,
   "id": "47a1ddef-0858-44de-a6a2-2f080c1cf4e2",
   "metadata": {},
   "outputs": [],
   "source": [
    "def calculos(num1, num2):\n",
    "    soma = num1 + num2\n",
    "    multiplicação = num1 * num2\n",
    "    exponenciação = num1 ** num2\n",
    "    \n",
    "    return soma, multiplicação, exponenciação"
   ]
  },
  {
   "cell_type": "code",
   "execution_count": 53,
   "id": "b9ff6d7d-a6ab-412a-9d3a-d6cf4cd0df1c",
   "metadata": {},
   "outputs": [
    {
     "data": {
      "text/plain": [
       "(13, 30, 1000)"
      ]
     },
     "execution_count": 53,
     "metadata": {},
     "output_type": "execute_result"
    }
   ],
   "source": [
    "calculos(10,3)"
   ]
  },
  {
   "cell_type": "code",
   "execution_count": 54,
   "id": "ae747a2e-fa2a-45e4-b934-a97c93843a29",
   "metadata": {},
   "outputs": [
    {
     "data": {
      "text/plain": [
       "dict"
      ]
     },
     "execution_count": 54,
     "metadata": {},
     "output_type": "execute_result"
    }
   ],
   "source": [
    "dados = {\n",
    "    'nome': ['murilo', 'Phyton', 'Senai Ary Torres', 'Turma 2401']\n",
    "}\n",
    "type(dados)\n"
   ]
  }
 ],
 "metadata": {
  "kernelspec": {
   "display_name": "Python 3 (ipykernel)",
   "language": "python",
   "name": "python3"
  },
  "language_info": {
   "codemirror_mode": {
    "name": "ipython",
    "version": 3
   },
   "file_extension": ".py",
   "mimetype": "text/x-python",
   "name": "python",
   "nbconvert_exporter": "python",
   "pygments_lexer": "ipython3",
   "version": "3.11.7"
  }
 },
 "nbformat": 4,
 "nbformat_minor": 5
}
