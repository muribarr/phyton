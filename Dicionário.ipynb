{
 "cells": [
  {
   "cell_type": "code",
   "execution_count": 2,
   "id": "cd3e1d27-5b59-40ae-a656-072f93c37224",
   "metadata": {},
   "outputs": [
    {
     "name": "stdin",
     "output_type": "stream",
     "text": [
      "Digite o seu nome  Murilo\n",
      "Digite o seu nome  Carlos\n",
      "Digite o seu nome  Thiago\n",
      "Digite o seu nome  Mendes\n"
     ]
    },
    {
     "name": "stdout",
     "output_type": "stream",
     "text": [
      "[{'Nome': 'Carlos', 'Jogada': 5}, {'Nome': 'Thiago', 'Jogada': 5}, {'Nome': 'Murilo', 'Jogada': 3}, {'Nome': 'Mendes', 'Jogada': 1}]\n"
     ]
    }
   ],
   "source": [
    "import random\n",
    "\n",
    "lista=[]\n",
    "jogadores={}\n",
    "for i in range(4):\n",
    "    jogadores['Nome']=input('Digite o seu nome ')\n",
    "    jogadores['Jogada']=random.randint(1,6)\n",
    "    lista.append(jogadores.copy())\n",
    "for x in range(len(lista)):\n",
    "    for i in range(len(lista)):\n",
    "        if lista[x]['Jogada'] > lista[i]['Jogada']:\n",
    "            lista[x]['Jogada'] , lista[i]['Jogada'] = lista[i]['Jogada'] , lista[x]['Jogada']\n",
    "            lista[x]['Nome'], lista[i]['Nome'] = lista[i]['Nome'], lista[x]['Nome']\n",
    "print(lista)\n"
   ]
  },
  {
   "cell_type": "code",
   "execution_count": 3,
   "id": "44e153a7-2b72-45a6-ae4b-655d429c33b4",
   "metadata": {},
   "outputs": [
    {
     "name": "stdin",
     "output_type": "stream",
     "text": [
      "digite o nome do jogar:  Murilo\n",
      "Digite o numero de partidas:  2\n"
     ]
    },
    {
     "name": "stdout",
     "output_type": "stream",
     "text": [
      "Nome: Murilo\n",
      "Partidas: 2\n",
      "Gols: 1.0\n"
     ]
    },
    {
     "name": "stdin",
     "output_type": "stream",
     "text": [
      "digite o nome do jogar:  Jordão\n",
      "Digite o numero de partidas:  5\n"
     ]
    },
    {
     "name": "stdout",
     "output_type": "stream",
     "text": [
      "Nome: Jordão\n",
      "Partidas: 5\n",
      "Gols: 1.8\n"
     ]
    },
    {
     "name": "stdin",
     "output_type": "stream",
     "text": [
      "digite o nome do jogar:  Mendes\n",
      "Digite o numero de partidas:  10\n"
     ]
    },
    {
     "name": "stdout",
     "output_type": "stream",
     "text": [
      "Nome: Mendes\n",
      "Partidas: 10\n",
      "Gols: 2.0\n"
     ]
    },
    {
     "name": "stdin",
     "output_type": "stream",
     "text": [
      "digite o nome do jogar:  sair\n"
     ]
    }
   ],
   "source": [
    "import random\n",
    "\n",
    "jogador={}\n",
    "while True:\n",
    "    jogador['Nome']=input('digite o nome do jogar: ')\n",
    "    if jogador['Nome']=='sair':\n",
    "        break\n",
    "    jogador['Partidas']=int(input('Digite o numero de partidas: '))\n",
    "    jogador['Gols']=0\n",
    "    for x in range(jogador['Partidas']):\n",
    "        jogador['Gols']+=random.randint(0,3)\n",
    "    jogador['Gols']=round((jogador['Gols']/jogador['Partidas']), 2)\n",
    "    for k,v in jogador.items():\n",
    "        print(f'{k}: {v}')"
   ]
  },
  {
   "cell_type": "code",
   "execution_count": null,
   "id": "acec4c78-0ac0-4700-9875-6d434cdb79a5",
   "metadata": {},
   "outputs": [],
   "source": []
  }
 ],
 "metadata": {
  "kernelspec": {
   "display_name": "Python 3 (ipykernel)",
   "language": "python",
   "name": "python3"
  },
  "language_info": {
   "codemirror_mode": {
    "name": "ipython",
    "version": 3
   },
   "file_extension": ".py",
   "mimetype": "text/x-python",
   "name": "python",
   "nbconvert_exporter": "python",
   "pygments_lexer": "ipython3",
   "version": "3.11.7"
  }
 },
 "nbformat": 4,
 "nbformat_minor": 5
}
