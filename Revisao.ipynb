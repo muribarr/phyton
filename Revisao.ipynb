{
 "cells": [
  {
   "cell_type": "code",
   "execution_count": 6,
   "id": "16733705-b7a5-4e9d-883d-446c94f8a11a",
   "metadata": {},
   "outputs": [],
   "source": [
    "import pandas as pd\n",
    "import numpy as np"
   ]
  },
  {
   "cell_type": "code",
   "execution_count": 3,
   "id": "b0814eaf-3b53-4ae8-b6de-f4ceedac0947",
   "metadata": {},
   "outputs": [],
   "source": [
    "df = pd.read_csv('./Documents/murilo/02 - Biblioteca Pandas/02 - Biblioteca Pandas/08 - Pandas - Carregando Dados/datasets/base_vendas.csv')"
   ]
  },
  {
   "cell_type": "code",
   "execution_count": 4,
   "id": "3b7bd620-b96a-42c4-8832-c9d68515286a",
   "metadata": {},
   "outputs": [
    {
     "data": {
      "text/plain": [
       "<bound method NDFrame.head of       matricula_funcionario Nome Funcionario     Cargo codigo_loja  \\\n",
       "0                 123456111       José Maria  Vendedor       CL001   \n",
       "1                 123456111       José Maria  Vendedor       CL001   \n",
       "2                 123456111       José Maria  Vendedor       CL001   \n",
       "3                 123456111       José Maria  Vendedor       CL001   \n",
       "4                 123456111       José Maria  Vendedor       CL001   \n",
       "...                     ...              ...       ...         ...   \n",
       "2995              123457113      Victor Hugo  Vendedor       CL004   \n",
       "2996              123457113      Victor Hugo  Vendedor       CL004   \n",
       "2997              123457113      Victor Hugo  Vendedor       CL004   \n",
       "2998              123457113      Victor Hugo  Vendedor       CL004   \n",
       "2999              123457113      Victor Hugo  Vendedor       CL004   \n",
       "\n",
       "        nome_loja  codigo_produto    descricao_produto         Categoria  \\\n",
       "0     Loja Matriz           10013                Fogão  Eletrodomésticos   \n",
       "1     Loja Matriz           10018              Colchão              Casa   \n",
       "2     Loja Matriz           10014            Geladeira  Eletrodomésticos   \n",
       "3     Loja Matriz           10001           Smartphone       Eletrônicos   \n",
       "4     Loja Matriz           10004  Máquina Lavar Roupa  Eletrodomésticos   \n",
       "...           ...             ...                  ...               ...   \n",
       "2995    Filial ES           10006      Aspirador de pó              Casa   \n",
       "2996    Filial ES           10011       Liquidificador           Cozinha   \n",
       "2997    Filial ES           10007            Batedeira           Cozinha   \n",
       "2998    Filial ES           10010  Fritadeira elétrica           Cozinha   \n",
       "2999    Filial ES           10004  Máquina Lavar Roupa  Eletrodomésticos   \n",
       "\n",
       "     preco_custo valor_unitario  quantidade comissao          dt_venda  \\\n",
       "0          210,9          404,1           1      NaN  28/09/2020 16:19   \n",
       "1          109,9          249,9           1      NaN  07/03/2020 12:47   \n",
       "2          699,9         1346,9           1      NaN  21/04/2019 10:48   \n",
       "3          899,9         1676,9           1      NaN  07/05/2020 17:59   \n",
       "4           1099         1709,1           1     0,05  14/08/2019 16:56   \n",
       "...          ...            ...         ...      ...               ...   \n",
       "2995        88,9          189,9           3      NaN  04/11/2019 15:40   \n",
       "2996        59,9          142,4           3      NaN  24/06/2019 09:04   \n",
       "2997        49,9           95,9           3      NaN  08/08/2020 14:46   \n",
       "2998       187,9            340           3      NaN  19/12/2019 09:21   \n",
       "2999        1099         1709,1           3     0,09  18/03/2019 15:40   \n",
       "\n",
       "            dt_entrega  \n",
       "0     05/10/2020 16:31  \n",
       "1     08/03/2020 12:47  \n",
       "2     23/04/2019 15:55  \n",
       "3     08/05/2020 14:31  \n",
       "4     19/08/2019 15:52  \n",
       "...                ...  \n",
       "2995  05/11/2019 10:40  \n",
       "2996  24/06/2019 10:50  \n",
       "2997  09/08/2020 14:07  \n",
       "2998  19/12/2019 10:51  \n",
       "2999  23/03/2019 17:52  \n",
       "\n",
       "[3000 rows x 14 columns]>"
      ]
     },
     "execution_count": 4,
     "metadata": {},
     "output_type": "execute_result"
    }
   ],
   "source": [
    "df.head"
   ]
  },
  {
   "cell_type": "code",
   "execution_count": 17,
   "id": "56e13726-7488-43ed-ac65-6513d9ce9137",
   "metadata": {},
   "outputs": [
    {
     "data": {
      "text/plain": [
       "<bound method NDFrame.head of       matricula_funcionario Nome Funcionario     Cargo codigo_loja  \\\n",
       "0                 123456111       José Maria  Vendedor       CL001   \n",
       "1                 123456111       José Maria  Vendedor       CL001   \n",
       "2                 123456111       José Maria  Vendedor       CL001   \n",
       "3                 123456111       José Maria  Vendedor       CL001   \n",
       "4                 123456111       José Maria  Vendedor       CL001   \n",
       "...                     ...              ...       ...         ...   \n",
       "2995              123457113      Victor Hugo  Vendedor       CL004   \n",
       "2996              123457113      Victor Hugo  Vendedor       CL004   \n",
       "2997              123457113      Victor Hugo  Vendedor       CL004   \n",
       "2998              123457113      Victor Hugo  Vendedor       CL004   \n",
       "2999              123457113      Victor Hugo  Vendedor       CL004   \n",
       "\n",
       "        nome_loja  codigo_produto    descricao_produto         Categoria  \\\n",
       "0     Loja Matriz           10013                Fogão  Eletrodomésticos   \n",
       "1     Loja Matriz           10018              Colchão              Casa   \n",
       "2     Loja Matriz           10014            Geladeira  Eletrodomésticos   \n",
       "3     Loja Matriz           10001           Smartphone       Eletrônicos   \n",
       "4     Loja Matriz           10004  Máquina Lavar Roupa  Eletrodomésticos   \n",
       "...           ...             ...                  ...               ...   \n",
       "2995    Filial ES           10006      Aspirador de pó              Casa   \n",
       "2996    Filial ES           10011       Liquidificador           Cozinha   \n",
       "2997    Filial ES           10007            Batedeira           Cozinha   \n",
       "2998    Filial ES           10010  Fritadeira elétrica           Cozinha   \n",
       "2999    Filial ES           10004  Máquina Lavar Roupa  Eletrodomésticos   \n",
       "\n",
       "     preco_custo valor_unitario  quantidade comissao          dt_venda  \\\n",
       "0          404.1          404.1           1      NaN  28/09/2020 16:19   \n",
       "1          249.9          249.9           1      NaN  07/03/2020 12:47   \n",
       "2         1346.9         1346.9           1      NaN  21/04/2019 10:48   \n",
       "3         1676.9         1676.9           1      NaN  07/05/2020 17:59   \n",
       "4         1709.1         1709.1           1     0,05  14/08/2019 16:56   \n",
       "...          ...            ...         ...      ...               ...   \n",
       "2995       189.9          189.9           3      NaN  04/11/2019 15:40   \n",
       "2996       142.4          142.4           3      NaN  24/06/2019 09:04   \n",
       "2997        95.9           95.9           3      NaN  08/08/2020 14:46   \n",
       "2998         340            340           3      NaN  19/12/2019 09:21   \n",
       "2999      1709.1         1709.1           3     0,09  18/03/2019 15:40   \n",
       "\n",
       "            dt_entrega  \n",
       "0     05/10/2020 16:31  \n",
       "1     08/03/2020 12:47  \n",
       "2     23/04/2019 15:55  \n",
       "3     08/05/2020 14:31  \n",
       "4     19/08/2019 15:52  \n",
       "...                ...  \n",
       "2995  05/11/2019 10:40  \n",
       "2996  24/06/2019 10:50  \n",
       "2997  09/08/2020 14:07  \n",
       "2998  19/12/2019 10:51  \n",
       "2999  23/03/2019 17:52  \n",
       "\n",
       "[3000 rows x 14 columns]>"
      ]
     },
     "execution_count": 17,
     "metadata": {},
     "output_type": "execute_result"
    }
   ],
   "source": [
    "df['valor_unitario'] = df.valor_unitario.str.replace(',','.')\n",
    "df['preco_custo'] = df.preco_custo.str.replace(',','.')\n",
    "\n",
    "df.head"
   ]
  },
  {
   "cell_type": "code",
   "execution_count": 18,
   "id": "52592424-d2e4-4fb8-a02d-06c68b08dcb1",
   "metadata": {},
   "outputs": [],
   "source": [
    "df = df.astype(\n",
    "    {\n",
    "        'valor_unitario': np.float64,\n",
    "        'preco_custo': np.float64,\n",
    "        'quantidade': np.int64\n",
    "    }\n",
    "\n",
    ")"
   ]
  },
  {
   "cell_type": "code",
   "execution_count": 19,
   "id": "2d42b504-3e7a-40ca-a6b9-1e416b173cfd",
   "metadata": {},
   "outputs": [
    {
     "data": {
      "text/plain": [
       "<bound method DataFrame.isnull of       matricula_funcionario Nome Funcionario     Cargo codigo_loja  \\\n",
       "0                 123456111       José Maria  Vendedor       CL001   \n",
       "1                 123456111       José Maria  Vendedor       CL001   \n",
       "2                 123456111       José Maria  Vendedor       CL001   \n",
       "3                 123456111       José Maria  Vendedor       CL001   \n",
       "4                 123456111       José Maria  Vendedor       CL001   \n",
       "...                     ...              ...       ...         ...   \n",
       "2995              123457113      Victor Hugo  Vendedor       CL004   \n",
       "2996              123457113      Victor Hugo  Vendedor       CL004   \n",
       "2997              123457113      Victor Hugo  Vendedor       CL004   \n",
       "2998              123457113      Victor Hugo  Vendedor       CL004   \n",
       "2999              123457113      Victor Hugo  Vendedor       CL004   \n",
       "\n",
       "        nome_loja  codigo_produto    descricao_produto         Categoria  \\\n",
       "0     Loja Matriz           10013                Fogão  Eletrodomésticos   \n",
       "1     Loja Matriz           10018              Colchão              Casa   \n",
       "2     Loja Matriz           10014            Geladeira  Eletrodomésticos   \n",
       "3     Loja Matriz           10001           Smartphone       Eletrônicos   \n",
       "4     Loja Matriz           10004  Máquina Lavar Roupa  Eletrodomésticos   \n",
       "...           ...             ...                  ...               ...   \n",
       "2995    Filial ES           10006      Aspirador de pó              Casa   \n",
       "2996    Filial ES           10011       Liquidificador           Cozinha   \n",
       "2997    Filial ES           10007            Batedeira           Cozinha   \n",
       "2998    Filial ES           10010  Fritadeira elétrica           Cozinha   \n",
       "2999    Filial ES           10004  Máquina Lavar Roupa  Eletrodomésticos   \n",
       "\n",
       "      preco_custo  valor_unitario  quantidade comissao          dt_venda  \\\n",
       "0           404.1           404.1           1      NaN  28/09/2020 16:19   \n",
       "1           249.9           249.9           1      NaN  07/03/2020 12:47   \n",
       "2          1346.9          1346.9           1      NaN  21/04/2019 10:48   \n",
       "3          1676.9          1676.9           1      NaN  07/05/2020 17:59   \n",
       "4          1709.1          1709.1           1     0,05  14/08/2019 16:56   \n",
       "...           ...             ...         ...      ...               ...   \n",
       "2995        189.9           189.9           3      NaN  04/11/2019 15:40   \n",
       "2996        142.4           142.4           3      NaN  24/06/2019 09:04   \n",
       "2997         95.9            95.9           3      NaN  08/08/2020 14:46   \n",
       "2998        340.0           340.0           3      NaN  19/12/2019 09:21   \n",
       "2999       1709.1          1709.1           3     0,09  18/03/2019 15:40   \n",
       "\n",
       "            dt_entrega  \n",
       "0     05/10/2020 16:31  \n",
       "1     08/03/2020 12:47  \n",
       "2     23/04/2019 15:55  \n",
       "3     08/05/2020 14:31  \n",
       "4     19/08/2019 15:52  \n",
       "...                ...  \n",
       "2995  05/11/2019 10:40  \n",
       "2996  24/06/2019 10:50  \n",
       "2997  09/08/2020 14:07  \n",
       "2998  19/12/2019 10:51  \n",
       "2999  23/03/2019 17:52  \n",
       "\n",
       "[3000 rows x 14 columns]>"
      ]
     },
     "execution_count": 19,
     "metadata": {},
     "output_type": "execute_result"
    }
   ],
   "source": [
    "df.isnull"
   ]
  },
  {
   "cell_type": "code",
   "execution_count": 20,
   "id": "296a5e6c-fa4a-4e43-9eb3-cec9c04300cd",
   "metadata": {},
   "outputs": [
    {
     "data": {
      "text/plain": [
       "matricula_funcionario       0\n",
       "Nome Funcionario            0\n",
       "Cargo                       0\n",
       "codigo_loja                 0\n",
       "nome_loja                   0\n",
       "codigo_produto              0\n",
       "descricao_produto           0\n",
       "Categoria                   0\n",
       "preco_custo                 0\n",
       "valor_unitario              0\n",
       "quantidade                  0\n",
       "comissao                 2841\n",
       "dt_venda                    0\n",
       "dt_entrega                  0\n",
       "dtype: int64"
      ]
     },
     "execution_count": 20,
     "metadata": {},
     "output_type": "execute_result"
    }
   ],
   "source": [
    "df.isnull().sum()"
   ]
  },
  {
   "cell_type": "code",
   "execution_count": 21,
   "id": "42516bb2-c0af-4875-9db8-35bf22550902",
   "metadata": {},
   "outputs": [
    {
     "data": {
      "text/plain": [
       "<bound method DataFrame.info of       matricula_funcionario Nome Funcionario     Cargo codigo_loja  \\\n",
       "0                 123456111       José Maria  Vendedor       CL001   \n",
       "1                 123456111       José Maria  Vendedor       CL001   \n",
       "2                 123456111       José Maria  Vendedor       CL001   \n",
       "3                 123456111       José Maria  Vendedor       CL001   \n",
       "4                 123456111       José Maria  Vendedor       CL001   \n",
       "...                     ...              ...       ...         ...   \n",
       "2995              123457113      Victor Hugo  Vendedor       CL004   \n",
       "2996              123457113      Victor Hugo  Vendedor       CL004   \n",
       "2997              123457113      Victor Hugo  Vendedor       CL004   \n",
       "2998              123457113      Victor Hugo  Vendedor       CL004   \n",
       "2999              123457113      Victor Hugo  Vendedor       CL004   \n",
       "\n",
       "        nome_loja  codigo_produto    descricao_produto         Categoria  \\\n",
       "0     Loja Matriz           10013                Fogão  Eletrodomésticos   \n",
       "1     Loja Matriz           10018              Colchão              Casa   \n",
       "2     Loja Matriz           10014            Geladeira  Eletrodomésticos   \n",
       "3     Loja Matriz           10001           Smartphone       Eletrônicos   \n",
       "4     Loja Matriz           10004  Máquina Lavar Roupa  Eletrodomésticos   \n",
       "...           ...             ...                  ...               ...   \n",
       "2995    Filial ES           10006      Aspirador de pó              Casa   \n",
       "2996    Filial ES           10011       Liquidificador           Cozinha   \n",
       "2997    Filial ES           10007            Batedeira           Cozinha   \n",
       "2998    Filial ES           10010  Fritadeira elétrica           Cozinha   \n",
       "2999    Filial ES           10004  Máquina Lavar Roupa  Eletrodomésticos   \n",
       "\n",
       "      preco_custo  valor_unitario  quantidade comissao          dt_venda  \\\n",
       "0           404.1           404.1           1      NaN  28/09/2020 16:19   \n",
       "1           249.9           249.9           1      NaN  07/03/2020 12:47   \n",
       "2          1346.9          1346.9           1      NaN  21/04/2019 10:48   \n",
       "3          1676.9          1676.9           1      NaN  07/05/2020 17:59   \n",
       "4          1709.1          1709.1           1     0,05  14/08/2019 16:56   \n",
       "...           ...             ...         ...      ...               ...   \n",
       "2995        189.9           189.9           3      NaN  04/11/2019 15:40   \n",
       "2996        142.4           142.4           3      NaN  24/06/2019 09:04   \n",
       "2997         95.9            95.9           3      NaN  08/08/2020 14:46   \n",
       "2998        340.0           340.0           3      NaN  19/12/2019 09:21   \n",
       "2999       1709.1          1709.1           3     0,09  18/03/2019 15:40   \n",
       "\n",
       "            dt_entrega  \n",
       "0     05/10/2020 16:31  \n",
       "1     08/03/2020 12:47  \n",
       "2     23/04/2019 15:55  \n",
       "3     08/05/2020 14:31  \n",
       "4     19/08/2019 15:52  \n",
       "...                ...  \n",
       "2995  05/11/2019 10:40  \n",
       "2996  24/06/2019 10:50  \n",
       "2997  09/08/2020 14:07  \n",
       "2998  19/12/2019 10:51  \n",
       "2999  23/03/2019 17:52  \n",
       "\n",
       "[3000 rows x 14 columns]>"
      ]
     },
     "execution_count": 21,
     "metadata": {},
     "output_type": "execute_result"
    }
   ],
   "source": [
    "df.info"
   ]
  },
  {
   "cell_type": "code",
   "execution_count": 30,
   "id": "4b09a2ea-5c66-4a74-b6e7-0fb93add10e3",
   "metadata": {},
   "outputs": [],
   "source": [
    "df['valor_total'] = df['valor_unitario'] * df['quantidade']"
   ]
  },
  {
   "cell_type": "code",
   "execution_count": 32,
   "id": "d6cf21f9-f991-4dcb-aa00-4993e637b6a0",
   "metadata": {},
   "outputs": [
    {
     "data": {
      "text/plain": [
       "<bound method DataFrame.info of       matricula_funcionario Nome Funcionario     Cargo codigo_loja  \\\n",
       "0                 123456111       José Maria  Vendedor       CL001   \n",
       "1                 123456111       José Maria  Vendedor       CL001   \n",
       "2                 123456111       José Maria  Vendedor       CL001   \n",
       "3                 123456111       José Maria  Vendedor       CL001   \n",
       "4                 123456111       José Maria  Vendedor       CL001   \n",
       "...                     ...              ...       ...         ...   \n",
       "2995              123457113      Victor Hugo  Vendedor       CL004   \n",
       "2996              123457113      Victor Hugo  Vendedor       CL004   \n",
       "2997              123457113      Victor Hugo  Vendedor       CL004   \n",
       "2998              123457113      Victor Hugo  Vendedor       CL004   \n",
       "2999              123457113      Victor Hugo  Vendedor       CL004   \n",
       "\n",
       "        nome_loja  codigo_produto    descricao_produto         Categoria  \\\n",
       "0     Loja Matriz           10013                Fogão  Eletrodomésticos   \n",
       "1     Loja Matriz           10018              Colchão              Casa   \n",
       "2     Loja Matriz           10014            Geladeira  Eletrodomésticos   \n",
       "3     Loja Matriz           10001           Smartphone       Eletrônicos   \n",
       "4     Loja Matriz           10004  Máquina Lavar Roupa  Eletrodomésticos   \n",
       "...           ...             ...                  ...               ...   \n",
       "2995    Filial ES           10006      Aspirador de pó              Casa   \n",
       "2996    Filial ES           10011       Liquidificador           Cozinha   \n",
       "2997    Filial ES           10007            Batedeira           Cozinha   \n",
       "2998    Filial ES           10010  Fritadeira elétrica           Cozinha   \n",
       "2999    Filial ES           10004  Máquina Lavar Roupa  Eletrodomésticos   \n",
       "\n",
       "      preco_custo  valor_unitario  quantidade comissao          dt_venda  \\\n",
       "0           404.1           404.1           1      NaN  28/09/2020 16:19   \n",
       "1           249.9           249.9           1      NaN  07/03/2020 12:47   \n",
       "2          1346.9          1346.9           1      NaN  21/04/2019 10:48   \n",
       "3          1676.9          1676.9           1      NaN  07/05/2020 17:59   \n",
       "4          1709.1          1709.1           1     0,05  14/08/2019 16:56   \n",
       "...           ...             ...         ...      ...               ...   \n",
       "2995        189.9           189.9           3      NaN  04/11/2019 15:40   \n",
       "2996        142.4           142.4           3      NaN  24/06/2019 09:04   \n",
       "2997         95.9            95.9           3      NaN  08/08/2020 14:46   \n",
       "2998        340.0           340.0           3      NaN  19/12/2019 09:21   \n",
       "2999       1709.1          1709.1           3     0,09  18/03/2019 15:40   \n",
       "\n",
       "            dt_entrega  valor_total  \n",
       "0     05/10/2020 16:31        404.1  \n",
       "1     08/03/2020 12:47        249.9  \n",
       "2     23/04/2019 15:55       1346.9  \n",
       "3     08/05/2020 14:31       1676.9  \n",
       "4     19/08/2019 15:52       1709.1  \n",
       "...                ...          ...  \n",
       "2995  05/11/2019 10:40        569.7  \n",
       "2996  24/06/2019 10:50        427.2  \n",
       "2997  09/08/2020 14:07        287.7  \n",
       "2998  19/12/2019 10:51       1020.0  \n",
       "2999  23/03/2019 17:52       5127.3  \n",
       "\n",
       "[3000 rows x 15 columns]>"
      ]
     },
     "execution_count": 32,
     "metadata": {},
     "output_type": "execute_result"
    }
   ],
   "source": [
    "df.info"
   ]
  },
  {
   "cell_type": "code",
   "execution_count": 35,
   "id": "583084bb-5784-454d-88a9-0a853e7aa17e",
   "metadata": {},
   "outputs": [],
   "source": [
    "df.to_csv('base_dados_vendas_tradada.csv')"
   ]
  },
  {
   "cell_type": "code",
   "execution_count": null,
   "id": "8d7886a0-474f-4ef4-abfd-c7cf4c2ef5db",
   "metadata": {},
   "outputs": [],
   "source": []
  }
 ],
 "metadata": {
  "kernelspec": {
   "display_name": "Python 3 (ipykernel)",
   "language": "python",
   "name": "python3"
  },
  "language_info": {
   "codemirror_mode": {
    "name": "ipython",
    "version": 3
   },
   "file_extension": ".py",
   "mimetype": "text/x-python",
   "name": "python",
   "nbconvert_exporter": "python",
   "pygments_lexer": "ipython3",
   "version": "3.11.7"
  }
 },
 "nbformat": 4,
 "nbformat_minor": 5
}
