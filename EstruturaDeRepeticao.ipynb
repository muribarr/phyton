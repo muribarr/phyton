{
 "cells": [
  {
   "cell_type": "code",
   "execution_count": 1,
   "id": "06befde8-574e-471f-8bd0-a7078804202d",
   "metadata": {},
   "outputs": [
    {
     "name": "stdout",
     "output_type": "stream",
     "text": [
      "1\n",
      "3\n",
      "5\n"
     ]
    }
   ],
   "source": [
    "for i in range(1,6,2):\n",
    "  print(i)"
   ]
  },
  {
   "cell_type": "code",
   "execution_count": 3,
   "id": "db509016-d140-441f-b5d2-3a7bc6c8590b",
   "metadata": {},
   "outputs": [
    {
     "name": "stdout",
     "output_type": "stream",
     "text": [
      "0\n",
      "1\n",
      "2\n",
      "3\n",
      "4\n",
      "5\n",
      "6\n",
      "7\n",
      "8\n",
      "9\n"
     ]
    }
   ],
   "source": [
    "for i in range(10):\n",
    "  print(i)"
   ]
  },
  {
   "cell_type": "code",
   "execution_count": 4,
   "id": "5715ec55-06e1-492f-b049-b7e2958b4b25",
   "metadata": {},
   "outputs": [
    {
     "name": "stdin",
     "output_type": "stream",
     "text": [
      "Informe o primeiro numero:  Murilo\n"
     ]
    },
    {
     "ename": "ValueError",
     "evalue": "invalid literal for int() with base 10: 'Murilo'",
     "output_type": "error",
     "traceback": [
      "\u001b[1;31m---------------------------------------------------------------------------\u001b[0m",
      "\u001b[1;31mValueError\u001b[0m                                Traceback (most recent call last)",
      "Cell \u001b[1;32mIn[4], line 1\u001b[0m\n\u001b[1;32m----> 1\u001b[0m inicio \u001b[38;5;241m=\u001b[39m \u001b[38;5;28mint\u001b[39m(\u001b[38;5;28minput\u001b[39m(\u001b[38;5;124m'\u001b[39m\u001b[38;5;124mInforme o primeiro numero: \u001b[39m\u001b[38;5;124m'\u001b[39m))\n\u001b[0;32m      2\u001b[0m fim \u001b[38;5;241m=\u001b[39m \u001b[38;5;28mint\u001b[39m(\u001b[38;5;28minput\u001b[39m(\u001b[38;5;124m'\u001b[39m\u001b[38;5;124mInforme o numero final\u001b[39m\u001b[38;5;124m'\u001b[39m))\n\u001b[0;32m      3\u001b[0m salto\u001b[38;5;241m=\u001b[39m \u001b[38;5;28mint\u001b[39m(\u001b[38;5;28minput\u001b[39m(\u001b[38;5;124m'\u001b[39m\u001b[38;5;124mInforme o salto: \u001b[39m\u001b[38;5;124m'\u001b[39m))\n",
      "\u001b[1;31mValueError\u001b[0m: invalid literal for int() with base 10: 'Murilo'"
     ]
    }
   ],
   "source": [
    "inicio = int(input('Informe o primeiro numero: '))\n",
    "fim = int(input('Informe o numero final'))\n",
    "salto= int(input('Informe o salto: '))\n",
    "texto = 'calculo: '\n",
    "soma=0\n",
    "for numero in range(inicio,fim,salto):\n",
    "    soma = soma +numero\n",
    "    texto= texto+str(numero)\n",
    "    if numero > 50:\n",
    "        texto= texto + 'Passou de 50'#concatenação\n",
    "        break\n",
    "    if numero !=fim-1:\n",
    "        texto = texto+'+' #concatenação\n",
    "print(f'{texto}')\n",
    "print(f'soma: {soma}')"
   ]
  },
  {
   "cell_type": "code",
   "execution_count": 7,
   "id": "abb46af5-bbee-424c-b91f-78414b001dfd",
   "metadata": {},
   "outputs": [
    {
     "ename": "SyntaxError",
     "evalue": "expected ':' (2708293032.py, line 1)",
     "output_type": "error",
     "traceback": [
      "\u001b[1;36m  Cell \u001b[1;32mIn[7], line 1\u001b[1;36m\u001b[0m\n\u001b[1;33m    for letras in 'curso de python'\u001b[0m\n\u001b[1;37m                                   ^\u001b[0m\n\u001b[1;31mSyntaxError\u001b[0m\u001b[1;31m:\u001b[0m expected ':'\n"
     ]
    }
   ],
   "source": [
    "for letras in 'curso de python'\n",
    "  print(letras)"
   ]
  },
  {
   "cell_type": "code",
   "execution_count": 8,
   "id": "abd22c6d-44a6-4fca-ab3d-64b5d27471f3",
   "metadata": {},
   "outputs": [
    {
     "name": "stdout",
     "output_type": "stream",
     "text": [
      "1\n",
      "215\n",
      "2\n",
      "3\n",
      "4\n",
      "48\n",
      "10\n"
     ]
    }
   ],
   "source": [
    "# For com listas/array\n",
    "lista=[1,215,2,3,4,48,10]\n",
    "for posicao_da_lista in lista:\n",
    "  print(posicao_da_lista)\n",
    "    de acordo com o enunciado, tudo é possivel....\n"
   ]
  },
  {
   "cell_type": "code",
   "execution_count": 9,
   "id": "6c10de91-0bea-415b-85d4-22240a3c44ac",
   "metadata": {},
   "outputs": [
    {
     "name": "stdout",
     "output_type": "stream",
     "text": [
      "0\n",
      "118\n",
      "56\n",
      "77\n",
      "20\n",
      "acabou\n"
     ]
    }
   ],
   "source": [
    "# for com else\n",
    "for numero in [0,118,56,77,20]:\n",
    "  print(numero)\n",
    "else:\n",
    "  print('acabou') #executa ao acabar o for"
   ]
  },
  {
   "cell_type": "code",
   "execution_count": 11,
   "id": "b0875110-c36c-456e-9c42-783259026716",
   "metadata": {},
   "outputs": [
    {
     "ename": "IndentationError",
     "evalue": "unexpected indent (722491438.py, line 2)",
     "output_type": "error",
     "traceback": [
      "\u001b[1;36m  Cell \u001b[1;32mIn[11], line 2\u001b[1;36m\u001b[0m\n\u001b[1;33m    for numero in range(1000):\u001b[0m\n\u001b[1;37m    ^\u001b[0m\n\u001b[1;31mIndentationError\u001b[0m\u001b[1;31m:\u001b[0m unexpected indent\n"
     ]
    }
   ],
   "source": [
    "#for com break\n",
    "  for numero in range(1000):\n",
    "    print(numero)\n",
    "    if numero == 4:\n",
    "      break\n",
    "print('até mais')"
   ]
  },
  {
   "cell_type": "code",
   "execution_count": 12,
   "id": "9a966335-cf0f-4aaa-b2fa-d347dcb57683",
   "metadata": {},
   "outputs": [
    {
     "name": "stdout",
     "output_type": "stream",
     "text": [
      "10\n",
      "9\n",
      "8\n",
      "7\n",
      "6\n",
      "5\n",
      "4\n",
      "3\n",
      "2\n",
      "1\n",
      "0\n"
     ]
    }
   ],
   "source": [
    "# DESAFIO 46\n",
    "# Faça um programa que mostre na tela uma contagem regressiva para o estouro de fogos de artificio, indo de 10 até 0, com uma pausa de 1 segundo entre eles.\n",
    "for numero in range(10,-1,-1):\n",
    "  print(numero)"
   ]
  },
  {
   "cell_type": "code",
   "execution_count": 13,
   "id": "ae1a3688-8825-4338-b84b-8177b0b5fccf",
   "metadata": {},
   "outputs": [
    {
     "name": "stdout",
     "output_type": "stream",
     "text": [
      "2\n",
      "4\n",
      "6\n",
      "8\n",
      "10\n",
      "12\n",
      "14\n",
      "16\n",
      "18\n",
      "20\n",
      "22\n",
      "24\n",
      "26\n",
      "28\n",
      "30\n",
      "32\n",
      "34\n",
      "36\n",
      "38\n",
      "40\n",
      "42\n",
      "44\n",
      "46\n",
      "48\n"
     ]
    }
   ],
   "source": [
    "# DESAFIO 47\n",
    "# Crie um programa que mostre na tela todos os números pares que estão no intervalo entre 1 e 50.\n",
    "for i in range(1,50):\n",
    "  if i%2==0:\n",
    "    print(i)"
   ]
  },
  {
   "cell_type": "code",
   "execution_count": 14,
   "id": "197e3c72-1ff9-4ce9-ba52-3685a2d4dc64",
   "metadata": {},
   "outputs": [
    {
     "name": "stdout",
     "output_type": "stream",
     "text": [
      "41583\n"
     ]
    }
   ],
   "source": [
    "# DESAFIO 48\n",
    "# Faça um programa que calcule a soma entre todos os números ímpares que são múltiplos de três e que se encontram no intervalo de 1 até 500.\n",
    "soma=0\n",
    "for numero in range(0,500):\n",
    "    if numero%3==0:\n",
    "        soma+=numero\n",
    "print(soma)"
   ]
  },
  {
   "cell_type": "code",
   "execution_count": 15,
   "id": "6d3b2b3f-c372-4477-990c-cf331bfc6e58",
   "metadata": {},
   "outputs": [
    {
     "name": "stdin",
     "output_type": "stream",
     "text": [
      "digite o numero que deseja saber a tabuada: \n",
      " 5\n"
     ]
    },
    {
     "name": "stdout",
     "output_type": "stream",
     "text": [
      "0 * 5 = 0\n",
      "1 * 5 = 5\n",
      "2 * 5 = 10\n",
      "3 * 5 = 15\n",
      "4 * 5 = 20\n",
      "5 * 5 = 25\n",
      "6 * 5 = 30\n",
      "7 * 5 = 35\n",
      "8 * 5 = 40\n",
      "9 * 5 = 45\n",
      "10 * 5 = 50\n"
     ]
    }
   ],
   "source": [
    "# DESAFIO 49\n",
    "# Refaça o DESAFIO 09, mostrando a tabuada de um número que o usuário escolher, só que agora utilizando um laço for.\n",
    "numero=int(input('digite o numero que deseja saber a tabuada: \\n'))\n",
    "for x in range(11):\n",
    "    print(f'{x} * {numero} = {numero*x}')"
   ]
  },
  {
   "cell_type": "code",
   "execution_count": 16,
   "id": "4d2ad8f0-2505-4460-8120-902db497c09a",
   "metadata": {},
   "outputs": [
    {
     "name": "stdin",
     "output_type": "stream",
     "text": [
      "Digite o numero da razão 10\n",
      "digite o primeiro termo 5\n"
     ]
    },
    {
     "name": "stdout",
     "output_type": "stream",
     "text": [
      "pa:15\n",
      "pa:25\n",
      "pa:35\n",
      "pa:45\n",
      "pa:55\n",
      "pa:65\n",
      "pa:75\n",
      "pa:85\n",
      "pa:95\n",
      "pa:105\n"
     ]
    }
   ],
   "source": [
    "# DESAFIO 51\n",
    "# Desenvolva um programa que leia o primeiro termo e a razão de uma PA. No final, mostre os 10 primeiros termos dessa progressão.\n",
    "razao=int(input('Digite o numero da razão'))\n",
    "ptermo=int(input('digite o primeiro termo'))\n",
    "for x in range(10):\n",
    "    ptermo+=razao\n",
    "    print(f'pa:{ptermo}')"
   ]
  },
  {
   "cell_type": "code",
   "execution_count": 17,
   "id": "34c3b5ad-7dfc-4b55-b9b4-815f8148f31e",
   "metadata": {},
   "outputs": [
    {
     "name": "stdin",
     "output_type": "stream",
     "text": [
      "digite um numero 8\n"
     ]
    },
    {
     "name": "stdout",
     "output_type": "stream",
     "text": [
      "Não é primo\n"
     ]
    }
   ],
   "source": [
    "# DESAFIO 52\n",
    "# Faça um programa que leia um número inteiro e diga se ele é ou não um numero primo.\n",
    "numero=int(input('digite um numero'))\n",
    "primo=''\n",
    "for x in range(2,numero):\n",
    "    if numero%x==0:\n",
    "        primo='Não é primo'\n",
    "        break\n",
    "    else:\n",
    "        primo='É primo'\n",
    "print(primo)"
   ]
  },
  {
   "cell_type": "code",
   "execution_count": 18,
   "id": "aec95e50-5257-4bbf-af0d-10bac4dd0130",
   "metadata": {},
   "outputs": [
    {
     "name": "stdout",
     "output_type": "stream",
     "text": [
      "atorredaderrota\n",
      "atorredaderrota\n",
      "Palindromo\n"
     ]
    }
   ],
   "source": [
    "# DESAFIO 53\n",
    "# Crie um programa que leia uma frase qualquer e diga se ela é um\n",
    "# palíndromo, desconsiderando espaços.\n",
    "# Exemplo:\n",
    "# APOS A SOPA\n",
    "# A SACADA DA CASA\n",
    "# A TORRE DA DERROTA\n",
    "\n",
    "frase='a torre da derrota'.lower()\n",
    "frase=frase.replace(' ', '')\n",
    "print(frase)\n",
    "print(frase[::-1])\n",
    "print('Palindromo' if frase == frase[::-1] else 'Não é palindromo')"
   ]
  },
  {
   "cell_type": "code",
   "execution_count": 19,
   "id": "fd297925-3a99-4f49-84ca-d4bf3514b040",
   "metadata": {},
   "outputs": [
    {
     "name": "stdout",
     "output_type": "stream",
     "text": [
      "1\n"
     ]
    },
    {
     "name": "stdin",
     "output_type": "stream",
     "text": [
      "Informe o ano de nascimento da 1º pessoa 1978\n"
     ]
    },
    {
     "name": "stdout",
     "output_type": "stream",
     "text": [
      "2\n"
     ]
    },
    {
     "name": "stdin",
     "output_type": "stream",
     "text": [
      "Informe o ano de nascimento da 2º pessoa 2004\n"
     ]
    },
    {
     "name": "stdout",
     "output_type": "stream",
     "text": [
      "3\n"
     ]
    },
    {
     "name": "stdin",
     "output_type": "stream",
     "text": [
      "Informe o ano de nascimento da 3º pessoa 2010\n"
     ]
    },
    {
     "name": "stdout",
     "output_type": "stream",
     "text": [
      "4\n"
     ]
    },
    {
     "name": "stdin",
     "output_type": "stream",
     "text": [
      "Informe o ano de nascimento da 4º pessoa 2030\n"
     ]
    },
    {
     "name": "stdout",
     "output_type": "stream",
     "text": [
      "5\n"
     ]
    },
    {
     "name": "stdin",
     "output_type": "stream",
     "text": [
      "Informe o ano de nascimento da 5º pessoa 1999\n"
     ]
    },
    {
     "name": "stdout",
     "output_type": "stream",
     "text": [
      "6\n"
     ]
    },
    {
     "name": "stdin",
     "output_type": "stream",
     "text": [
      "Informe o ano de nascimento da 6º pessoa 2009\n"
     ]
    },
    {
     "name": "stdout",
     "output_type": "stream",
     "text": [
      "7\n"
     ]
    },
    {
     "name": "stdin",
     "output_type": "stream",
     "text": [
      "Informe o ano de nascimento da 7º pessoa 1940\n"
     ]
    },
    {
     "name": "stdout",
     "output_type": "stream",
     "text": [
      "São maior de idade 4 e são menor de idade 3\n"
     ]
    }
   ],
   "source": [
    "# DESAFIO 54\n",
    "# Crie um programa que leia o ano de nascimento de sete pessoas. No final, mostre\n",
    "# quantas pessoas ainda não atingiram a maioridade e quantas já são maiores.\n",
    "\n",
    "maior=0\n",
    "menor=0\n",
    "for x in range(1,8):\n",
    "    print(x)\n",
    "    idade=2024-int(input(f'Informe o ano de nascimento da {x}º pessoa'))\n",
    "    if idade >= 18:\n",
    "        maior=maior+1\n",
    "    else:\n",
    "        menor+=1\n",
    "print(f'São maior de idade {maior} e são menor de idade {menor}')"
   ]
  },
  {
   "cell_type": "code",
   "execution_count": 20,
   "id": "52a40b1c-0220-4021-9159-474d530b3d76",
   "metadata": {},
   "outputs": [
    {
     "ename": "SyntaxError",
     "evalue": "invalid syntax (2944804961.py, line 12)",
     "output_type": "error",
     "traceback": [
      "\u001b[1;36m  Cell \u001b[1;32mIn[20], line 12\u001b[1;36m\u001b[0m\n\u001b[1;33m    else:\u001b[0m\n\u001b[1;37m    ^\u001b[0m\n\u001b[1;31mSyntaxError\u001b[0m\u001b[1;31m:\u001b[0m invalid syntax\n"
     ]
    }
   ],
   "source": [
    "# DESAFIO 55\n",
    "# Faça um programa que leia o peso de cinco pessoas. No final, mostre qual foi o\n",
    "# maior e o menor peso lidos.\n",
    "peso=0\n",
    "maior=0\n",
    "menor=0\n",
    "for x in range(1,6):\n",
    "    peso=float(input(f'Digite o peso da {x}º pessoa'))\n",
    "    if x==1:\n",
    "        maior=peso\n",
    "        menor=peso\n",
    "        else:\n",
    "        if peso>maior:\n",
    "            maior=peso\n",
    "        if peso<menor:\n",
    "            menor=peso\n",
    "print(f'O maior peso foi {maior} e o menor foi {menor}')"
   ]
  },
  {
   "cell_type": "code",
   "execution_count": null,
   "id": "767875c0-6202-48af-a070-7c233ce7b379",
   "metadata": {},
   "outputs": [],
   "source": [
    "# DESAFIO 56\n",
    "# Desenvolva um programa que leia o nome, idade e sexo de 4 pessoas. No final do\n",
    "# programa mostre:\n",
    "# A média de idade do grupo\n",
    "# Qual é o nome do homem mais velho\n",
    "# Quantas mulheres tem menos de 20 anos\n",
    "\n",
    "\n",
    "mediaIdade=0\n",
    "nome=''\n",
    "idade=0\n",
    "idadeMaisVelho=0\n",
    "nomeVelho=''\n",
    "genero=''\n",
    "mulherMenor20=0\n",
    "somaIdade=0\n",
    "for x in range(1,5):\n",
    "    nome=input(f'Digite o nome da {x}º pessoa')\n",
    "    idade=int(input(f'Digite a idade {x}º pessoa'))\n",
    "    genero=input('F/M').upper()\n",
    "    if genero == 'H':\n",
    "        if idade > idadeMaisVelho:\n",
    "            nomeVelho= nome\n",
    "    else:\n",
    "        if idade <20:\n",
    "            mulherMenor20+=1\n",
    "    mediaIdade+=1\n",
    "    somaIdade+=idade\n",
    "print(f'A media de idade do grupo é: {somaIdade/mediaIdade}\\n'\n",
    "      f'O Homem mais velho é o {nomeVelho}\\n'\n",
    "      f'O numero de mulheres com menos de 20 anos é: {mulherMenor20}')"
   ]
  },
  {
   "cell_type": "code",
   "execution_count": null,
   "id": "d6140c15-f310-47fb-a789-dbc4210c3728",
   "metadata": {},
   "outputs": [],
   "source": []
  }
 ],
 "metadata": {
  "kernelspec": {
   "display_name": "Python 3 (ipykernel)",
   "language": "python",
   "name": "python3"
  },
  "language_info": {
   "codemirror_mode": {
    "name": "ipython",
    "version": 3
   },
   "file_extension": ".py",
   "mimetype": "text/x-python",
   "name": "python",
   "nbconvert_exporter": "python",
   "pygments_lexer": "ipython3",
   "version": "3.11.7"
  }
 },
 "nbformat": 4,
 "nbformat_minor": 5
}
