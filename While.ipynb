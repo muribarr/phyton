{
 "cells": [
  {
   "cell_type": "code",
   "execution_count": 2,
   "id": "7892804b-4fbb-45b2-b7ed-ca8a8850b10b",
   "metadata": {},
   "outputs": [
    {
     "name": "stdin",
     "output_type": "stream",
     "text": [
      "M/F:   m\n",
      "M/F:   m\n"
     ]
    }
   ],
   "source": [
    "# DESAFIO 57\n",
    "# Faça um programa que leia o sexo de uma pessoa, mas só aceite os\n",
    "# valores ‘M’ ou ‘F’. Caso esteja errado, peça a digitação novamente até\n",
    "# ter um valor correto.\n",
    "genero=''\n",
    "while genero != 'M' and genero!='F':\n",
    "    genero=input('M/F:  ').upper()\n",
    "\n",
    "\n",
    "while True:\n",
    "    genero = input('M/F:  ').upper()\n",
    "    if genero == 'M' or genero=='F':\n",
    "        break"
   ]
  },
  {
   "cell_type": "code",
   "execution_count": 3,
   "id": "d8c53879-1a17-4cbf-91bb-b40f9d4b98fa",
   "metadata": {},
   "outputs": [
    {
     "name": "stdin",
     "output_type": "stream",
     "text": [
      "Digite um numero entre 0 e 10:  9\n",
      "Digite um numero entre 0 e 10:  11\n",
      "Digite um numero entre 0 e 10:  0\n",
      "Digite um numero entre 0 e 10:  5\n"
     ]
    },
    {
     "name": "stdout",
     "output_type": "stream",
     "text": [
      "Você acertou o numero era o 5 e tentou 4 vezes\n"
     ]
    }
   ],
   "source": [
    "# DESAFIO 58\n",
    "# Melhore o jogo do DESAFIO 28, onde o computador vai “pensar” em\n",
    "# um número entre 0 a 10. Só que agora o jogador vai tentar adivinhar\n",
    "# até acertar, mostrando no final quantos palpites foram necessários para\n",
    "\n",
    "import random\n",
    "numeroAletorio=random.randint(0,10)\n",
    "numeroJogador=0\n",
    "contador=0\n",
    "while numeroAletorio != numeroJogador:\n",
    "    numeroJogador=int(input('Digite um numero entre 0 e 10: '))\n",
    "    contador+=1\n",
    "print(f'Você acertou o numero era o {numeroAletorio} e tentou {contador} vezes')\n"
   ]
  },
  {
   "cell_type": "code",
   "execution_count": 4,
   "id": "6a59e04b-3cba-4a23-9935-97b866e9bce7",
   "metadata": {},
   "outputs": [
    {
     "name": "stdin",
     "output_type": "stream",
     "text": [
      "Digite o primeiro numero:  5\n",
      "Digite o primeiro numero:  8\n",
      "Escolha\n",
      "1-somar\n",
      "2-multiplicar\n",
      "3-maior\n",
      "4-novos numeros\n",
      "5-sair:\n",
      "Digite:  1\n"
     ]
    },
    {
     "name": "stdout",
     "output_type": "stream",
     "text": [
      "A soma é 13.0\n"
     ]
    },
    {
     "name": "stdin",
     "output_type": "stream",
     "text": [
      "Escolha\n",
      "1-somar\n",
      "2-multiplicar\n",
      "3-maior\n",
      "4-novos numeros\n",
      "5-sair:\n",
      "Digite:  2\n"
     ]
    },
    {
     "name": "stdout",
     "output_type": "stream",
     "text": [
      "A multiplicação é 40.0\n"
     ]
    },
    {
     "name": "stdin",
     "output_type": "stream",
     "text": [
      "Escolha\n",
      "1-somar\n",
      "2-multiplicar\n",
      "3-maior\n",
      "4-novos numeros\n",
      "5-sair:\n",
      "Digite:  3\n"
     ]
    },
    {
     "name": "stdout",
     "output_type": "stream",
     "text": [
      "8.0\n"
     ]
    },
    {
     "name": "stdin",
     "output_type": "stream",
     "text": [
      "Escolha\n",
      "1-somar\n",
      "2-multiplicar\n",
      "3-maior\n",
      "4-novos numeros\n",
      "5-sair:\n",
      "Digite:  5\n"
     ]
    }
   ],
   "source": [
    "# DESAFIO 59\n",
    "# Crie um programa que leia dois valores e mostre um menu na tela:\n",
    "# [1] Somar\n",
    "# [2] Multiplicar\n",
    "# [3] Maior\n",
    "# [4] Novos Números\n",
    "# [5] Sair do programa\n",
    "# Seu programa deverá realizar a operação solicitada em cada caso.\n",
    "num1=float(input('Digite o primeiro numero: '))\n",
    "num2=float(input('Digite o primeiro numero: '))\n",
    "while True:\n",
    "    menu=input('Escolha\\n1-somar\\n2-multiplicar\\n3-maior\\n4-novos'\n",
    "               ' numeros\\n5-sair:\\nDigite: ').lower()\n",
    "    if menu=='1':\n",
    "        print(f'A soma é {num1+num2}')\n",
    "    elif menu=='2':\n",
    "        print(f'A multiplicação é {num1*num2}')\n",
    "    elif menu=='3':\n",
    "        print(max(num1,num2))\n",
    "    elif menu =='4':\n",
    "        num1 = float(input('Digite o primeiro numero: '))\n",
    "        num2 = float(input('Digite o primeiro numero: '))\n",
    "    elif menu=='5':\n",
    "        break\n",
    "    else:\n",
    "        print('digite apenas opções validas')"
   ]
  },
  {
   "cell_type": "code",
   "execution_count": 5,
   "id": "8f244969-5cd8-4177-bfdb-aa367066af39",
   "metadata": {},
   "outputs": [
    {
     "name": "stdin",
     "output_type": "stream",
     "text": [
      "Digite o numero da razão 5\n",
      "digite o primeiro termo 8\n"
     ]
    },
    {
     "name": "stdout",
     "output_type": "stream",
     "text": [
      "pa:13\n",
      "pa:18\n",
      "pa:23\n",
      "pa:28\n",
      "pa:33\n",
      "pa:38\n",
      "pa:43\n",
      "pa:48\n",
      "pa:53\n",
      "pa:58\n"
     ]
    },
    {
     "name": "stdin",
     "output_type": "stream",
     "text": [
      "Deseja ver mais termos. Se sim digite a quantidade (0 para sair):  5\n"
     ]
    },
    {
     "name": "stdout",
     "output_type": "stream",
     "text": [
      "pa:63\n",
      "pa:68\n",
      "pa:73\n",
      "pa:78\n",
      "pa:83\n"
     ]
    },
    {
     "name": "stdin",
     "output_type": "stream",
     "text": [
      "Deseja ver mais termos. Se sim digite a quantidade (0 para sair):  0\n"
     ]
    }
   ],
   "source": [
    "# DESAFIO 61\n",
    "# Refaça o DESAFIO 051, lendo o primeiro termo e a razão de uma PA,\n",
    "# mostrando os 10 primeiros termos da progressão usando a estrutura WHILE.\n",
    "# DESAFIO 62\n",
    "# Melhore o DESAFIO 061, perguntando para o usuário se ele quer mostrar mais\n",
    "# alguns termos. O programa encerra quando ele disser que quer mostrar 0 termos.\n",
    "razao=int(input('Digite o numero da razão'))\n",
    "ptermo=int(input('digite o primeiro termo'))\n",
    "i=0\n",
    "while i <=10:\n",
    "    ptermo+=razao\n",
    "    print(f'pa:{ptermo}')\n",
    "    if i==9:\n",
    "        menu=int(input('Deseja ver mais termos. Se sim digite '\n",
    "                       'a quantidade (0 para sair): '))\n",
    "        if menu==0:\n",
    "            i=15\n",
    "        else:\n",
    "            i=i-menu\n",
    "    i+=1"
   ]
  },
  {
   "cell_type": "code",
   "execution_count": 6,
   "id": "c301f4da-0e8e-44ee-89d5-d06bd6570a08",
   "metadata": {},
   "outputs": [
    {
     "name": "stdin",
     "output_type": "stream",
     "text": [
      "Digite quantos numeros deseja ver da sequencia:  3\n"
     ]
    },
    {
     "name": "stdout",
     "output_type": "stream",
     "text": [
      "\u001b[1;33;45m1\u001b[m+\u001b[1;33;45m1\u001b[m+\u001b[1;33;45m2\u001b[m+"
     ]
    }
   ],
   "source": [
    "num=0# primeiro numero da sequencia\n",
    "contador=int(input('Digite quantos numeros deseja ver da sequencia: '))\n",
    "seguinte=num+1 #segundo numero da sequencia\n",
    "resp=0 # resultado dos calculos\n",
    "i=0 # segundo contador\n",
    "while i < contador:\n",
    "    resp=num+seguinte\n",
    "    print(f'\\033[1;33;45m{seguinte}\\033[m', end='+')\n",
    "    num=seguinte\n",
    "    seguinte=resp\n",
    "    i+=1"
   ]
  },
  {
   "cell_type": "code",
   "execution_count": 7,
   "id": "7c587b77-a27c-49a9-a876-7d1c30443a8a",
   "metadata": {},
   "outputs": [
    {
     "name": "stdin",
     "output_type": "stream",
     "text": [
      "Digite um numero (para sair digite 999):  8\n",
      "Digite um numero (para sair digite 999):  6\n",
      "Digite um numero (para sair digite 999):  999\n"
     ]
    },
    {
     "name": "stdout",
     "output_type": "stream",
     "text": [
      "Foram digitados 2 e soma deles  é 14\n"
     ]
    }
   ],
   "source": [
    "# DESAFIO 66\n",
    "# Crie um programa que leia vários números inteiros pelo teclado. O\n",
    "# programa só vai parar quando o usuário digitar 999, que é a condição de\n",
    "# parada. No final mostre quantos números foram digitados e qual foi a soma\n",
    "# entre eles (desconsiderando o 999).\n",
    "contador=0\n",
    "soma=0\n",
    "while True:\n",
    "    num=int(input('Digite um numero (para sair digite 999): '))\n",
    "    if num !=999:\n",
    "        soma+=num\n",
    "        contador+=1\n",
    "    else:\n",
    "        print(f'Foram digitados {contador} e soma deles  é {soma}')\n",
    "        break"
   ]
  },
  {
   "cell_type": "code",
   "execution_count": null,
   "id": "01c6558a-963b-455e-a21c-e748af094f81",
   "metadata": {},
   "outputs": [],
   "source": []
  }
 ],
 "metadata": {
  "kernelspec": {
   "display_name": "Python 3 (ipykernel)",
   "language": "python",
   "name": "python3"
  },
  "language_info": {
   "codemirror_mode": {
    "name": "ipython",
    "version": 3
   },
   "file_extension": ".py",
   "mimetype": "text/x-python",
   "name": "python",
   "nbconvert_exporter": "python",
   "pygments_lexer": "ipython3",
   "version": "3.11.7"
  }
 },
 "nbformat": 4,
 "nbformat_minor": 5
}
